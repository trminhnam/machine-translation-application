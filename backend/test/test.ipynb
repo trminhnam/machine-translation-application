{
 "cells": [
  {
   "cell_type": "code",
   "execution_count": 1,
   "metadata": {},
   "outputs": [
    {
     "name": "stderr",
     "output_type": "stream",
     "text": [
      "c:\\Users\\trmin\\.conda\\envs\\aio\\lib\\site-packages\\tqdm\\auto.py:22: TqdmWarning: IProgress not found. Please update jupyter and ipywidgets. See https://ipywidgets.readthedocs.io/en/stable/user_install.html\n",
      "  from .autonotebook import tqdm as notebook_tqdm\n"
     ]
    }
   ],
   "source": [
    "import torch\n",
    "import warnings\n",
    "from transformers import MBartForConditionalGeneration, MBart50TokenizerFast\n",
    "\n",
    "warnings.filterwarnings(\"ignore\")\n",
    "\n",
    "# model = MBartForConditionalGeneration.from_pretrained(\"facebook/mbart-large-50\", cache_dir='models/mbart-large-50')\n",
    "# tokenizer = MBart50TokenizerFast.from_pretrained(\"facebook/mbart-large-50\", cache_dir='models/mbart-large-50', src_lang=\"en_XX\", tgt_lang=\"ro_RO\")\n",
    "\n",
    "# src_text = \" UN Chief Says There Is No Military Solution in Syria\"\n",
    "# tgt_text = \"Şeful ONU declară că nu există o soluţie militară în Siria\"\n",
    "\n",
    "# model_inputs = tokenizer(src_text, text_target=tgt_text, return_tensors=\"pt\")\n",
    "\n",
    "# model(**model_inputs)  # forward pass"
   ]
  },
  {
   "cell_type": "code",
   "execution_count": null,
   "metadata": {},
   "outputs": [],
   "source": [
    "from transformers import AutoTokenizer, AutoModelForSeq2SeqLM\n",
    "\n",
    "tokenizer = AutoTokenizer.from_pretrained(\"models/mbart-large-50\")\n",
    "\n",
    "model = AutoModelForSeq2SeqLM.from_pretrained(\"models/mbart-large-50\")"
   ]
  },
  {
   "cell_type": "code",
   "execution_count": null,
   "metadata": {},
   "outputs": [],
   "source": [
    "tokenizer.src_lang = 'en_XX'\n",
    "\n",
    "text = \"I love going <mask> the beach\"\n",
    "encoded_ar = tokenizer(text, return_tensors=\"pt\")\n",
    "generated_tokens = model.generate(**encoded_ar, forced_bos_token_id=tokenizer.lang_code_to_id[\"vi_VN\"])\n",
    "tokenizer.batch_decode(generated_tokens, skip_special_tokens=True)"
   ]
  },
  {
   "cell_type": "code",
   "execution_count": null,
   "metadata": {},
   "outputs": [],
   "source": [
    "from transformers import MBartForConditionalGeneration, MBart50TokenizerFast\n",
    "\n",
    "model = MBartForConditionalGeneration.from_pretrained(\"models/mbart-large-50\", cache_dir='models/mbart-large-50')\n",
    "tokenizer = MBart50TokenizerFast.from_pretrained(\"models/mbart-large-50\", cache_dir='models/mbart-large-50', src_lang=\"en_XX\", tgt_lang=\"vi_VN\")"
   ]
  },
  {
   "cell_type": "code",
   "execution_count": null,
   "metadata": {},
   "outputs": [],
   "source": [
    "tokenizer.src_lang = 'en_XX'\n",
    "\n",
    "text = \"I love<mask> to the beach\"\n",
    "encoded_ar = tokenizer(text, return_tensors=\"pt\")\n",
    "generated_tokens = model.generate(**encoded_ar, decoder_start_token_id=tokenizer.lang_code_to_id[\"vi_VN\"])\n",
    "tokenizer.batch_decode(generated_tokens, skip_special_tokens=True)"
   ]
  },
  {
   "attachments": {},
   "cell_type": "markdown",
   "metadata": {},
   "source": [
    "### Many to En"
   ]
  },
  {
   "cell_type": "code",
   "execution_count": null,
   "metadata": {},
   "outputs": [],
   "source": [
    "from transformers import MBartForConditionalGeneration, MBart50TokenizerFast\n",
    "\n",
    "model = MBartForConditionalGeneration.from_pretrained(\"facebook/mbart-large-50-many-to-one-mmt\", cache_dir='cache')\n",
    "tokenizer = MBart50TokenizerFast.from_pretrained(\"facebook/mbart-large-50-many-to-one-mmt\", cache_dir='cache')\n",
    "\n",
    "# translate Vietnamese to English\n",
    "source = \"Tôi không thích ăn cá.\"\n",
    "tokenizer.src_lang = \"hi_IN\"\n",
    "encoded_src = tokenizer(source, return_tensors=\"pt\")\n",
    "generated_tokens = model.generate(**encoded_src)\n",
    "tokenizer.batch_decode(generated_tokens, skip_special_tokens=True)x\n",
    "# => \"The head of the UN says there is no military solution in Syria.\"\n"
   ]
  },
  {
   "cell_type": "code",
   "execution_count": null,
   "metadata": {},
   "outputs": [],
   "source": [
    "model.save_pretrained('models/mbart-large-50-many-to-one-mmt')\n",
    "tokenizer.save_pretrained('models/mbart-large-50-many-to-one-mmt')"
   ]
  },
  {
   "attachments": {},
   "cell_type": "markdown",
   "metadata": {},
   "source": [
    "### En to many"
   ]
  },
  {
   "cell_type": "code",
   "execution_count": null,
   "metadata": {},
   "outputs": [],
   "source": [
    "from transformers import MBartForConditionalGeneration, MBart50TokenizerFast\n",
    "\n",
    "model = MBartForConditionalGeneration.from_pretrained(\"models/mbart-large-50-one-to-many-mmt\", cache_dir='cache')\n",
    "tokenizer = MBart50TokenizerFast.from_pretrained(\"models/mbart-large-50-one-to-many-mmt\", src_lang=\"en_XX\", cache_dir='cache')\n",
    "\n",
    "# model.save_pretrained('models/mbart-large-50-one-to-many-mmt')\n",
    "# tokenizer.save_pretrained('models/mbart-large-50-one-to-many-mmt')"
   ]
  },
  {
   "cell_type": "code",
   "execution_count": null,
   "metadata": {},
   "outputs": [],
   "source": [
    "device = torch.device(\"cuda\" if torch.cuda.is_available() else \"cpu\")\n",
    "model = model.to(device)"
   ]
  },
  {
   "cell_type": "code",
   "execution_count": null,
   "metadata": {},
   "outputs": [],
   "source": [
    "article_en = \"The Vietnamese's government has announced about the COVID-19 situation in the country.\"\n",
    "# model_inputs = tokenizer(article_en, return_tensors=\"pt\", max_length=256, truncation=True, padding=\"max_length\")\n",
    "model_inputs = tokenizer(article_en, return_tensors=\"pt\")\n",
    "print(model_inputs)\n",
    "\n",
    "model_inputs = {k: v.to(device) for k, v in model_inputs.items()}\n",
    "\n",
    "generated_tokens = model.generate(\n",
    "    **model_inputs,\n",
    "    forced_bos_token_id=tokenizer.lang_code_to_id[\"vi_VN\"]\n",
    ")\n",
    "tokenizer.batch_decode(generated_tokens, skip_special_tokens=True)"
   ]
  },
  {
   "cell_type": "code",
   "execution_count": null,
   "metadata": {},
   "outputs": [],
   "source": [
    "sources = [\n",
    "    \"I love swimming in the sea.\",\n",
    "    \"Studying natural language processing is fun.\",\n",
    "]\n",
    "\n",
    "model_inputs = tokenizer(sources, return_tensors=\"pt\", max_length=64, truncation=True, padding=\"max_length\")\n",
    "model_inputs = {k: v.to(device) for k, v in model_inputs.items()}\n",
    "\n",
    "with torch.no_grad():\n",
    "    generated_tokens = model.generate(\n",
    "        **model_inputs,\n",
    "        forced_bos_token_id=tokenizer.lang_code_to_id[\"vi_VN\"],\n",
    "    )\n",
    "# generated_tokens = model.generate(\n",
    "#     **model_inputs,\n",
    "#     forced_bos_token_id=tokenizer.lang_code_to_id[\"vi_VN\"],\n",
    "# )\n",
    "\n",
    "tokenizer.batch_decode(generated_tokens, skip_special_tokens=True)"
   ]
  },
  {
   "cell_type": "code",
   "execution_count": null,
   "metadata": {},
   "outputs": [],
   "source": []
  }
 ],
 "metadata": {
  "kernelspec": {
   "display_name": "Python 3",
   "language": "python",
   "name": "python3"
  },
  "language_info": {
   "codemirror_mode": {
    "name": "ipython",
    "version": 3
   },
   "file_extension": ".py",
   "mimetype": "text/x-python",
   "name": "python",
   "nbconvert_exporter": "python",
   "pygments_lexer": "ipython3",
   "version": "3.8.16"
  },
  "orig_nbformat": 4,
  "vscode": {
   "interpreter": {
    "hash": "c4b1d2403d5bedfc2b499b2d1212ae0437b5f8ebf43026ed45c1b9608ddeb20c"
   }
  }
 },
 "nbformat": 4,
 "nbformat_minor": 2
}
